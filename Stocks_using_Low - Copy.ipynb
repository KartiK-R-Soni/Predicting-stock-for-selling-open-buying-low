{
  "cells": [
    {
      "cell_type": "code",
      "execution_count": null,
      "metadata": {
        "colab": {
          "base_uri": "https://localhost:8080/"
        },
        "id": "OUXPmpzW-3TK",
        "outputId": "30ba71ba-bcb5-44ac-f047-2864ab3c9dbc"
      },
      "outputs": [],
      "source": [
        "!pip install yfinance"
      ]
    },
    {
      "cell_type": "code",
      "execution_count": 3,
      "metadata": {},
      "outputs": [],
      "source": [
        "import datetime as dt"
      ]
    },
    {
      "cell_type": "code",
      "execution_count": 4,
      "metadata": {
        "id": "TkVvnUwNjV6n"
      },
      "outputs": [],
      "source": [
        "import yfinance as yf"
      ]
    },
    {
      "cell_type": "code",
      "execution_count": 5,
      "metadata": {
        "id": "WtsaJJ61_qgy"
      },
      "outputs": [],
      "source": [
        "import pandas as pd"
      ]
    },
    {
      "cell_type": "code",
      "execution_count": 6,
      "metadata": {
        "id": "huGzCqTnmN8d"
      },
      "outputs": [],
      "source": [
        "def comb(s):\n",
        "  end_date=dt.datetime.today()\n",
        "  start_date1=dt.datetime.today()-dt.timedelta(7)\n",
        "  start_date2=dt.datetime.today()-dt.timedelta(14)\n",
        "  start_date4=dt.datetime.today()-dt.timedelta(28)\n",
        "  start_date8=dt.datetime.today()-dt.timedelta(56)\n",
        "  start_date16=dt.datetime.today()-dt.timedelta(112)\n",
        "  start_dateM=dt.datetime.today()-dt.timedelta(178)\n",
        "  start_dateY=dt.datetime.today()-dt.timedelta(356)\n",
        "  # Y2 = Y2.rename_axis(index='Date', columns=\"Date\")\n",
        "  W1=yf.download(s,start_date1,end_date)\n",
        "  # W1=Y2[Y2[\"Datefinal_W1\"] >= '2022-09-13' and Y2[\"Date\"]<='2022-09-20']\n",
        "  W2=yf.download(s,start_date2,end_date)\n",
        "  # W2=Y2[Y2[\"Date\"] >= '2022-09-06' and Y2[\"Date\"]<='2022-09-20']\n",
        "  W4=yf.download(s,start_date4,end_date)\n",
        "  # W4=Y2[Y2[\"Datefinal_W1\"] >= '2022-08-23' and Y2[\"Date\"]<='2022-09-20']\n",
        "  W8=yf.download(s,start_date8,end_date)\n",
        "  # W8=Y2[Y2[\"Date\"] >= '2022-07-06' and Y2[\"Date\"]<='2022-09-20']022-1\n",
        "  W16=yf.download(s,start_date16,end_date)\n",
        "  # W16=Y2[Y2[\"Date\"] >= '2022-05-31' and Y2[\"Date\"]<='2022-09-20']\n",
        "  M6=yf.download(s,start_dateM,end_date)\n",
        "  # M6=Y2[Y2[\"Date\"] >= '2022-03-22' and Y2[\"Date\"]<='2022-09-20']\n",
        "  Y1=yf.download(s,start_dateY,end_date)\n",
        "  # Y1=Y2[Y2[\"Date\"] >= '2021-09-06' and Y2[\"Date\"]<='2022-09-20']\n",
        "  # Y2=yf.download(s,'2020-09-20','2022-09-20')022-1\n",
        "\n",
        "  k=0.35\n",
        "  low_ch = pd.DataFrame(columns=['Lord'])\n",
        "  low_ch['Lord'] = (((W1['High']-W1['Low'])*100 )/W1['High'])\n",
        "  final_W1=low_ch[low_ch.Lord > k]\n",
        "\n",
        "  low_ch1 = pd.DataFrame(columns=['Lord'])\n",
        "  low_ch1['Lord'] = (((W2['High']-W2['Low'])*100 )/W2['High'])\n",
        "  final_W2=low_ch1[low_ch1.Lord > k]\n",
        "\n",
        "  low_ch2 = pd.DataFrame(columns=['Lord'])\n",
        "  low_ch2['Lord'] = (((W4['High']-W4['Low'])*100 )/W4['High'])\n",
        "  final_W4=low_ch2[low_ch2.Lord > k]\n",
        "\n",
        "  low_ch3 = pd.DataFrame(columns=['Lord'])\n",
        "  low_ch3['Lord'] = (((W8['High']-W8['Low'])*100 )/W8['High'])\n",
        "  final_W8=low_ch3[low_ch3.Lord > k]\n",
        "\n",
        "  low_ch4 = pd.DataFrame(columns=['Lord'])\n",
        "  low_ch4['Lord'] = (((W16['High']-W16['Low'])*100 )/W16['High'])\n",
        "  final_W16=low_ch4[low_ch4.Lord > k]\n",
        "\n",
        "  low_ch5 = pd.DataFrame(columns=['Lord'])\n",
        "  low_ch5['Lord'] = (((M6['High']-M6['Low'])*100 )/M6['High'])\n",
        "  final_M6=low_ch5[low_ch5.Lord > k]\n",
        "\n",
        "  low_ch6 = pd.DataFrame(columns=['Lord'])\n",
        "  low_ch6['Lord'] = (((Y1['High']-Y1['Low'])*100 )/Y1['High'])\n",
        "  final_Y1=low_ch6[low_ch6.Lord > k]\n",
        "\n",
        "\n",
        "  # P035=256*(final_W1.size*100)/(W1.size)+128*(final_W2.size*100)/(W2.size)+64*(final_W4.size*100)/(W4.size)+32*(final_W8.size*100)/(W8.size)+16*(final_W16.size*100)/(W16.size)+8*final_M6+4*(final_Y1.size*100)/(Y1.size)+2*(final_Y2.size*100)/(Y2.size)\n",
        "  P035=256*((final_W1.size*100)/(W1.size))+128*((final_W2.size*100)/(W2.size))+64*((final_W4.size*100)/(W4.size))+32*((final_W8.size*100)/(W8.size))+16*((final_W16.size*100)/(W16.size))+8*((final_M6.size*100)/M6.size)+4*((final_Y1.size*100)/(Y1.size))\n",
        "\n",
        "# For k=0.5\n",
        "  k=2.1\n",
        "  low_ch = pd.DataFrame(columns=['Lord'])\n",
        "  low_ch['Lord'] = (((W1['High']-W1['Low'])*100 )/W1['High'])\n",
        "  final_W1=low_ch[low_ch.Lord > k]\n",
        "\n",
        "  low_ch1 = pd.DataFrame(columns=['Lord'])\n",
        "  low_ch1['Lord'] = (((W2['High']-W2['Low'])*100 )/W2['High'])\n",
        "  final_W2=low_ch1[low_ch1.Lord > k]\n",
        "\n",
        "  low_ch2 = pd.DataFrame(columns=['Lord'])\n",
        "  low_ch2['Lord'] = (((W4['High']-W4['Low'])*100 )/W4['High'])\n",
        "  final_W4=low_ch2[low_ch2.Lord > k]\n",
        "\n",
        "  low_ch3 = pd.DataFrame(columns=['Lord'])\n",
        "  low_ch3['Lord'] = (((W8['High']-W8['Low'])*100 )/W8['High'])\n",
        "  final_W8=low_ch3[low_ch3.Lord > k]\n",
        "\n",
        "  low_ch4 = pd.DataFrame(columns=['Lord'])\n",
        "  low_ch4['Lord'] = (((W16['High']-W16['Low'])*100 )/W16['High'])\n",
        "  final_W16=low_ch4[low_ch4.Lord > k]\n",
        "\n",
        "  low_ch5 = pd.DataFrame(columns=['Lord'])\n",
        "  low_ch5['Lord'] = (((M6['High']-M6['Low'])*100 )/M6['High'])\n",
        "  final_M6=low_ch5[low_ch5.Lord > k]\n",
        "\n",
        "  low_ch6 = pd.DataFrame(columns=['Lord'])\n",
        "  low_ch6['Lord'] = (((Y1['High']-Y1['Low'])*100 )/Y1['High'])\n",
        "  final_Y1=low_ch6[low_ch6.Lord > k]\n",
        "\n",
        "  # P05=256*(final_W1.size*100)/(W1.size)+128*(final_W2.size*100)/(W2.size)+64*(final_W4.size*100)/(W4.size)+32*(final_W8.size*100)/(W8.size)+16*(final_W16.size*100)/(W16.size)+8*final_M6+4*(final_Y1.size*100)/(Y1.size)+2*(final_Y2.size*100)/(Y2.size)\n",
        "  P05=256*((final_W1.size*100)/(W1.size))+128*((final_W2.size*100)/(W2.size))+64*((final_W4.size*100)/(W4.size))+32*((final_W8.size*100)/(W8.size))+16*((final_W16.size*100)/(W16.size))+8*((final_M6.size*100)/M6.size)+4*((final_Y1.size*100)/(Y1.size))\n",
        "\n",
        "\n",
        "# For k = 1\n",
        "  k=2.6\n",
        "  low_ch = pd.DataFrame(columns=['Lord'])\n",
        "  low_ch['Lord'] = (((W1['High']-W1['Low'])*100 )/W1['High'])\n",
        "  final_W1=low_ch[low_ch.Lord > k]\n",
        "\n",
        "  low_ch1 = pd.DataFrame(columns=['Lord'])\n",
        "  low_ch1['Lord'] = (((W2['High']-W2['Low'])*100 )/W2['High'])\n",
        "  final_W2=low_ch1[low_ch1.Lord > k]\n",
        "\n",
        "  low_ch2 = pd.DataFrame(columns=['Lord'])\n",
        "  low_ch2['Lord'] = (((W4['High']-W4['Low'])*100 )/W4['High'])\n",
        "  final_W4=low_ch2[low_ch2.Lord > k]\n",
        "\n",
        "  low_ch3 = pd.DataFrame(columns=['Lord'])\n",
        "  low_ch3['Lord'] = (((W8['High']-W8['Low'])*100 )/W8['High'])\n",
        "  final_W8=low_ch3[low_ch3.Lord > k]\n",
        "\n",
        "  low_ch4 = pd.DataFrame(columns=['Lord'])\n",
        "  low_ch4['Lord'] = (((W16['High']-W16['Low'])*100 )/W16['High'])\n",
        "  final_W16=low_ch4[low_ch4.Lord > k]\n",
        "\n",
        "  low_ch5 = pd.DataFrame(columns=['Lord'])\n",
        "  low_ch5['Lord'] = (((M6['High']-M6['Low'])*100 )/M6['High'])\n",
        "  final_M6=low_ch5[low_ch5.Lord > k]\n",
        "\n",
        "  low_ch6 = pd.DataFrame(columns=['Lord'])\n",
        "  low_ch6['Lord'] = (((Y1['High']-Y1['Low'])*100 )/Y1['High'])\n",
        "  final_Y1=low_ch6[low_ch6.Lord > k]\n",
        "\n",
        "  # P1=256*(final_W1.size*100)/(W1.size)+128*(final_W2.size*100)/(W2.size)+64*(final_W4.size*100)/(W4.size)+32*(final_W8.size*100)/(W8.size)+16*(final_W16.size*100)/(W16.size)+8*final_M6+4*(final_Y1.size*100)/(Y1.size)+2*(final_Y2.size*100)/(Y2.size)\n",
        "  P1=256*((final_W1.size*100)/(W1.size))+128*((final_W2.size*100)/(W2.size))+64*((final_W4.size*100)/(W4.size))+32*((final_W8.size*100)/(W8.size))+16*((final_W16.size*100)/(W16.size))+8*((final_M6.size*100)/M6.size)+4*((final_Y1.size*100)/(Y1.size))\n",
        "# For k=2\n",
        "  k=3.6\n",
        "  low_ch = pd.DataFrame(columns=['Lord'])\n",
        "  low_ch['Lord'] = (((W1['High']-W1['Low'])*100 )/W1['High'])\n",
        "  final_W1=low_ch[low_ch.Lord > k]\n",
        "\n",
        "  low_ch1 = pd.DataFrame(columns=['Lord'])\n",
        "  low_ch1['Lord'] = (((W2['High']-W2['Low'])*100 )/W2['High'])\n",
        "  final_W2=low_ch1[low_ch1.Lord > k]\n",
        "\n",
        "  low_ch2 = pd.DataFrame(columns=['Lord'])\n",
        "  low_ch2['Lord'] = (((W4['High']-W4['Low'])*100 )/W4['High'])\n",
        "  final_W4=low_ch2[low_ch2.Lord > k]\n",
        "\n",
        "  low_ch3 = pd.DataFrame(columns=['Lord'])\n",
        "  low_ch3['Lord'] = (((W8['High']-W8['Low'])*100 )/W8['High'])\n",
        "  final_W8=low_ch3[low_ch3.Lord > k]\n",
        "\n",
        "  low_ch4 = pd.DataFrame(columns=['Lord'])\n",
        "  low_ch4['Lord'] = (((W16['High']-W16['Low'])*100 )/W16['High'])\n",
        "  final_W16=low_ch4[low_ch4.Lord > k]\n",
        "\n",
        "  low_ch5 = pd.DataFrame(columns=['Lord'])\n",
        "  low_ch5['Lord'] = (((M6['High']-M6['Low'])*100 )/M6['High'])\n",
        "  final_M6=low_ch5[low_ch5.Lord > k]\n",
        "\n",
        "  low_ch6 = pd.DataFrame(columns=['Lord'])\n",
        "  low_ch6['Lord'] = (((Y1['High']-Y1['Low'])*100 )/Y1['High'])\n",
        "  final_Y1=low_ch6[low_ch6.Lord > k]\n",
        "\n",
        "  # P2=256*(final_W1.size*100)/(W1.size)+128*(final_W2.size*100)/(W2.size)+64*(final_W4.size*100)/(W4.size)+32*(final_W8.size*100)/(W8.size)+16*(final_W16.size*100)/(W16.size)+8*final_M6+4*(final_Y1.size*100)/(Y1.size)+2*(final_Y2.size*100)/(Y2.size)\n",
        "  P2=256*((final_W1.size*100)/(W1.size))+128*((final_W2.size*100)/(W2.size))+64*((final_W4.size*100)/(W4.size))+32*((final_W8.size*100)/(W8.size))+16*((final_W16.size*100)/(W16.size))+8*((final_M6.size*100)/M6.size)+4*((final_Y1.size*100)/(Y1.size))\n",
        "\n",
        "# For k=3.5\n",
        "  k=5.1\n",
        "  low_ch = pd.DataFrame(columns=['Lord'])\n",
        "  low_ch['Lord'] = (((W1['High']-W1['Low'])*100 )/W1['High'])\n",
        "  final_W1=low_ch[low_ch.Lord > k]\n",
        "\n",
        "  low_ch1 = pd.DataFrame(columns=['Lord'])\n",
        "  low_ch1['Lord'] = (((W2['High']-W2['Low'])*100 )/W2['High'])\n",
        "  final_W2=low_ch1[low_ch1.Lord > k]\n",
        "\n",
        "  low_ch2 = pd.DataFrame(columns=['Lord'])\n",
        "  low_ch2['Lord'] = (((W4['High']-W4['Low'])*100 )/W4['High'])\n",
        "  final_W4=low_ch2[low_ch2.Lord > k]\n",
        "\n",
        "  low_ch3 = pd.DataFrame(columns=['Lord'])\n",
        "  low_ch3['Lord'] = (((W8['High']-W8['Low'])*100 )/W8['High'])\n",
        "  final_W8=low_ch3[low_ch3.Lord > k]\n",
        "\n",
        "  low_ch4 = pd.DataFrame(columns=['Lord'])\n",
        "  low_ch4['Lord'] = (((W16['High']-W16['Low'])*100 )/W16['High'])\n",
        "  final_W16=low_ch4[low_ch4.Lord > k]\n",
        "\n",
        "  low_ch5 = pd.DataFrame(columns=['Lord'])\n",
        "  low_ch5['Lord'] = (((M6['High']-M6['Low'])*100 )/M6['High'])\n",
        "  final_M6=low_ch5[low_ch5.Lord > k]\n",
        "\n",
        "  low_ch6 = pd.DataFrame(columns=['Lord'])\n",
        "  low_ch6['Lord'] = (((Y1['High']-Y1['Low'])*100 )/Y1['High'])\n",
        "  final_Y1=low_ch6[low_ch6.Lord > k]\n",
        "\n",
        "  # size*100)/(W16.size)+8*final_M6+4*(final_Y1.size*100)/(Y1.size)+2*(final_Y2.size*100)/(Y2.size)\n",
        "  P35=256*((final_W1.size*100)/(W1.size))+128*((final_W2.size*100)/(W2.size))+64*((final_W4.size*100)/(W4.size))+32*((final_W8.size*100)/(W8.size))+16*((final_W16.size*100)/(W16.size))+8*((final_M6.size*100)/M6.size)+4*((final_Y1.size*100)/(Y1.size))\n",
        "\n",
        "# Risk\n",
        "  k=2.1\n",
        "  low_ch = pd.DataFrame(columns=['Lord'])\n",
        "  low_ch['Lord'] = (((W1['High']-W1['Low'])*100 )/W1['High'])\n",
        "  final_W1=low_ch[low_ch.Lord < k]\n",
        "\n",
        "  low_ch1 = pd.DataFrame(columns=['Lord'])\n",
        "  low_ch1['Lord'] = (((W2['High']-W2['Low'])*100 )/W2['High'])\n",
        "  final_W2=low_ch1[low_ch1.Lord < k]\n",
        "\n",
        "  low_ch2 = pd.DataFrame(columns=['Lord'])\n",
        "  low_ch2['Lord'] = (((W4['High']-W4['Low'])*100 )/W4['High'])\n",
        "  final_W4=low_ch2[low_ch2.Lord < k]\n",
        "\n",
        "  low_ch3 = pd.DataFrame(columns=['Lord'])\n",
        "  low_ch3['Lord'] = (((W8['High']-W8['Low'])*100 )/W8['High'])\n",
        "  final_W8=low_ch3[low_ch3.Lord < k]\n",
        "\n",
        "  low_ch4 = pd.DataFrame(columns=['Lord'])\n",
        "  low_ch4['Lord'] = (((W16['High']-W16['Low'])*100 )/W16['High'])\n",
        "  final_W16=low_ch4[low_ch4.Lord < k]\n",
        "\n",
        "  low_ch5 = pd.DataFrame(columns=['Lord'])\n",
        "  low_ch5['Lord'] = (((M6['High']-M6['Low'])*100 )/M6['High'])\n",
        "  final_M6=low_ch5[low_ch5.Lord < k]\n",
        "\n",
        "  low_ch6 = pd.DataFrame(columns=['Lord'])\n",
        "  low_ch6['Lord'] = (((Y1['High']-Y1['Low'])*100 )/Y1['High'])\n",
        "  final_Y1=low_ch6[low_ch6.Lord < k]\n",
        "\n",
        "  \n",
        "  R05=256*((final_W1.size*100)/(W1.size))+128*((final_W2.size*100)/(W2.size))+64*((final_W4.size*100)/(W4.size))+32*((final_W8.size*100)/(W8.size))+16*((final_W16.size*100)/(W16.size))+8*((final_M6.size*100)/M6.size)+4*((final_Y1.size*100)/(Y1.size))\n",
        "\n",
        "\n",
        "  k=2.6\n",
        "  low_ch = pd.DataFrame(columns=['Lord'])\n",
        "  low_ch['Lord'] = (((W1['High']-W1['Low'])*100 )/W1['High'])\n",
        "  final_W1=low_ch[low_ch.Lord < k]\n",
        "\n",
        "  low_ch1 = pd.DataFrame(columns=['Lord'])\n",
        "  low_ch1['Lord'] = (((W2['High']-W2['Low'])*100 )/W2['High'])\n",
        "  final_W2=low_ch1[low_ch1.Lord < k]\n",
        "\n",
        "  low_ch2 = pd.DataFrame(columns=['Lord'])\n",
        "  low_ch2['Lord'] = (((W4['High']-W4['Low'])*100 )/W4['High'])\n",
        "  final_W4=low_ch2[low_ch2.Lord < k]\n",
        "\n",
        "  low_ch3 = pd.DataFrame(columns=['Lord'])\n",
        "  low_ch3['Lord'] = (((W8['High']-W8['Low'])*100 )/W8['High'])\n",
        "  final_W8=low_ch3[low_ch3.Lord < k]\n",
        "\n",
        "  low_ch4 = pd.DataFrame(columns=['Lord'])\n",
        "  low_ch4['Lord'] = (((W16['High']-W16['Low'])*100 )/W16['High'])\n",
        "  final_W16=low_ch4[low_ch4.Lord < k]\n",
        "\n",
        "  low_ch5 = pd.DataFrame(columns=['Lord'])\n",
        "  low_ch5['Lord'] = (((M6['High']-M6['Low'])*100 )/M6['High'])\n",
        "  final_M6=low_ch5[low_ch5.Lord < k]\n",
        "\n",
        "  low_ch6 = pd.DataFrame(columns=['Lord'])\n",
        "  low_ch6['Lord'] = (((Y1['High']-Y1['Low'])*100 )/Y1['High'])\n",
        "  final_Y1=low_ch6[low_ch6.Lord < k]\n",
        "\n",
        "  \n",
        "  R1=256*((final_W1.size*100)/(W1.size))+128*((final_W2.size*100)/(W2.size))+64*((final_W4.size*100)/(W4.size))+32*((final_W8.size*100)/(W8.size))+16*((final_W16.size*100)/(W16.size))+8*((final_M6.size*100)/M6.size)+4*((final_Y1.size*100)/(Y1.size))\n",
        "# k=0.3\n",
        "  k=1.9\n",
        "  low_ch = pd.DataFrame(columns=['Lord'])\n",
        "  low_ch['Lord'] = (((W1['High']-W1['Low'])*100 )/W1['High'])\n",
        "  final_W1=low_ch[low_ch.Lord <= k]\n",
        "\n",
        "  low_ch1 = pd.DataFrame(columns=['Lord'])\n",
        "  low_ch1['Lord'] = (((W2['High']-W2['Low'])*100 )/W2['High'])\n",
        "  final_W2=low_ch1[low_ch1.Lord <=k]\n",
        "\n",
        "  low_ch2 = pd.DataFrame(columns=['Lord'])\n",
        "  low_ch2['Lord'] = (((W4['High']-W4['Low'])*100 )/W4['High'])\n",
        "  final_W4=low_ch2[low_ch2.Lord <= k]\n",
        "\n",
        "  low_ch3 = pd.DataFrame(columns=['Lord'])\n",
        "  low_ch3['Lord'] = (((W8['High']-W8['Low'])*100 )/W8['High'])\n",
        "  final_W8=low_ch3[low_ch3.Lord <= k]\n",
        "\n",
        "  low_ch4 = pd.DataFrame(columns=['Lord'])\n",
        "  low_ch4['Lord'] = (((W16['High']-W16['Low'])*100 )/W16['High'])\n",
        "  final_W16=low_ch4[low_ch4.Lord <= k]\n",
        "\n",
        "  low_ch5 = pd.DataFrame(columns=['Lord'])\n",
        "  low_ch5['Lord'] = (((M6['High']-M6['Low'])*100 )/M6['High'])\n",
        "  final_M6=low_ch5[low_ch5.Lord <= k]\n",
        "\n",
        "  low_ch6 = pd.DataFrame(columns=['Lord'])\n",
        "  low_ch6['Lord'] = (((Y1['High']-Y1['Low'])*100 )/Y1['High'])\n",
        "  final_Y1=low_ch6[low_ch6.Lord <= k]\n",
        "  \n",
        "  R03=256*((final_W1.size*100)/(W1.size))+128*((final_W2.size*100)/(W2.size))+64*((final_W4.size*100)/(W4.size))+32*((final_W8.size*100)/(W8.size))+16*((final_W16.size*100)/(W16.size))+8*((final_M6.size*100)/M6.size)+4*((final_Y1.size*100)/(Y1.size))\n",
        "\n",
        "\n",
        "# For most negative case \n",
        "  k=1.6\n",
        "  low_ch = pd.DataFrame(columns=['Lord'])\n",
        "  low_ch['Lord'] = (((W1['High']-W1['Low'])*100 )/W1['High'])\n",
        "  final_W1=low_ch[low_ch.Lord <= k]\n",
        "\n",
        "  low_ch1 = pd.DataFrame(columns=['Lord'])\n",
        "  low_ch1['Lord'] = (((W2['High']-W2['Low'])*100 )/W2['High'])\n",
        "  final_W2=low_ch1[low_ch1.Lord <=k]\n",
        "\n",
        "  low_ch2 = pd.DataFrame(columns=['Lord'])\n",
        "  low_ch2['Lord'] = (((W4['High']-W4['Low'])*100 )/W4['High'])\n",
        "  final_W4=low_ch2[low_ch2.Lord <= k]\n",
        "\n",
        "  low_ch3 = pd.DataFrame(columns=['Lord'])\n",
        "  low_ch3['Lord'] = (((W8['High']-W8['Low'])*100 )/W8['High'])\n",
        "  final_W8=low_ch3[low_ch3.Lord <= k]\n",
        "\n",
        "  low_ch4 = pd.DataFrame(columns=['Lord'])\n",
        "  low_ch4['Lord'] = (((W16['High']-W16['Low'])*100 )/W16['High'])\n",
        "  final_W16=low_ch4[low_ch4.Lord <= k]\n",
        "\n",
        "  low_ch5 = pd.DataFrame(columns=['Lord'])\n",
        "  low_ch5['Lord'] = (((M6['High']-M6['Low'])*100 )/M6['High'])\n",
        "  final_M6=low_ch5[low_ch5.Lord <= k]\n",
        "\n",
        "  low_ch6 = pd.DataFrame(columns=['Lord'])\n",
        "  low_ch6['Lord'] = (((Y1['High']-Y1['Low'])*100 )/Y1['High'])\n",
        "  final_Y1=low_ch6[low_ch6.Lord <= k]\n",
        "\n",
        "  \n",
        "  R0=1024*((final_W1.size*100)/(W1.size))+512*((final_W2.size*100)/(W2.size))+256*((final_W4.size*100)/(W4.size))+32*((final_W8.size*100)/(W8.size))+16*((final_W16.size*100)/(W16.size))+8*((final_M6.size*100)/M6.size)+4*((final_Y1.size*100)/(Y1.size))\n",
        "\n",
        "  df2 = {'Stock': s, 'P035':P035, 'P05': P05, 'P1': P1, 'P2':P2, 'P35':P35, 'R05':R05, 'R1':R1, 'R03' :R03, 'R0' : R0}\n",
        "  return df2\n",
        "\n"
      ]
    },
    {
      "cell_type": "markdown",
      "metadata": {},
      "source": []
    },
    {
      "cell_type": "code",
      "execution_count": 7,
      "metadata": {
        "id": "Lcd117EQTyg0"
      },
      "outputs": [],
      "source": [
        "column_names = [\"Code\"]\n",
        "symb = pd.read_csv(\"harshad.csv\", names=column_names)"
      ]
    },
    {
      "cell_type": "code",
      "execution_count": 8,
      "metadata": {
        "colab": {
          "base_uri": "https://localhost:8080/",
          "height": 206
        },
        "id": "XJtZruOOT84w",
        "outputId": "9ca99d17-dff4-438c-bfe9-fc352be7f6d4"
      },
      "outputs": [
        {
          "data": {
            "text/html": [
              "<div>\n",
              "<style scoped>\n",
              "    .dataframe tbody tr th:only-of-type {\n",
              "        vertical-align: middle;\n",
              "    }\n",
              "\n",
              "    .dataframe tbody tr th {\n",
              "        vertical-align: top;\n",
              "    }\n",
              "\n",
              "    .dataframe thead th {\n",
              "        text-align: right;\n",
              "    }\n",
              "</style>\n",
              "<table border=\"1\" class=\"dataframe\">\n",
              "  <thead>\n",
              "    <tr style=\"text-align: right;\">\n",
              "      <th></th>\n",
              "      <th>Code</th>\n",
              "    </tr>\n",
              "  </thead>\n",
              "  <tbody>\n",
              "    <tr>\n",
              "      <th>0</th>\n",
              "      <td>ABB.NS</td>\n",
              "    </tr>\n",
              "    <tr>\n",
              "      <th>1</th>\n",
              "      <td>ACC.NS</td>\n",
              "    </tr>\n",
              "    <tr>\n",
              "      <th>2</th>\n",
              "      <td>AUBANK.NS</td>\n",
              "    </tr>\n",
              "    <tr>\n",
              "      <th>3</th>\n",
              "      <td>ABBOTINDIA.NS</td>\n",
              "    </tr>\n",
              "    <tr>\n",
              "      <th>4</th>\n",
              "      <td>ADANIENT.NS</td>\n",
              "    </tr>\n",
              "  </tbody>\n",
              "</table>\n",
              "</div>"
            ],
            "text/plain": [
              "            Code\n",
              "0         ABB.NS\n",
              "1         ACC.NS\n",
              "2      AUBANK.NS\n",
              "3  ABBOTINDIA.NS\n",
              "4    ADANIENT.NS"
            ]
          },
          "execution_count": 8,
          "metadata": {},
          "output_type": "execute_result"
        }
      ],
      "source": [
        "symb.head()"
      ]
    },
    {
      "cell_type": "code",
      "execution_count": 9,
      "metadata": {
        "id": "107kAsTQUhAZ"
      },
      "outputs": [],
      "source": [
        "symbols = symb.Code.to_list()"
      ]
    },
    {
      "cell_type": "code",
      "execution_count": 10,
      "metadata": {
        "colab": {
          "base_uri": "https://localhost:8080/"
        },
        "id": "uabB49NdUqDZ",
        "outputId": "1e4eefd1-c21b-4170-b318-89e75548bd7c"
      },
      "outputs": [
        {
          "name": "stdout",
          "output_type": "stream",
          "text": [
            "['ABB.NS', 'ACC.NS', 'AUBANK.NS', 'ABBOTINDIA.NS', 'ADANIENT.NS', 'ADANIGREEN.NS', 'ADANIPORTS.NS', 'ATGL.NS', 'ADANITRANS.NS', 'ABCAPITAL.NS', 'ABFRL.NS', 'APLLTD.NS', 'ALKEM.NS', 'AMBUJACEM.NS', 'APOLLOHOSP.NS', 'APOLLOTYRE.NS', 'ASHOKLEY.NS', 'ASIANPAINT.NS', 'ASTRAL.NS', 'AUROPHARMA.NS', 'DMART.NS', 'AXISBANK.NS', 'BAJAJ-AUTO.NS', 'BAJFINANCE.NS', 'BAJAJFINSV.NS', 'BAJAJHLDNG.NS', 'BALKRISIND.NS', 'BANDHANBNK.NS', 'BANKBARODA.NS', 'BANKINDIA.NS', 'BATAINDIA.NS', 'BERGEPAINT.NS', 'BEL.NS', 'BHARATFORG.NS', 'BHEL.NS', 'BPCL.NS', 'BHARTIARTL.NS', 'BIOCON.NS', 'BOSCHLTD.NS', 'BRITANNIA.NS', 'CANBK.NS', 'CHOLAFIN.NS', 'CIPLA.NS', 'CLEAN.NS', 'COALINDIA.NS', 'COFORGE.NS', 'COLPAL.NS', 'CONCOR.NS', 'COROMANDEL.NS', 'CROMPTON.NS', 'CUMMINSIND.NS', 'DLF.NS', 'DABUR.NS', 'DALBHARAT.NS', 'DEEPAKNTR.NS', 'DIVISLAB.NS', 'DIXON.NS', 'LALPATHLAB.NS', 'DRREDDY.NS', 'EICHERMOT.NS', 'EMAMILTD.NS', 'ESCORTS.NS', 'EXIDEIND.NS', 'NYKAA.NS', 'FEDERALBNK.NS', 'FORTIS.NS', 'GAIL.NS', 'GLAND.NS', 'GLENMARK.NS', 'GODREJCP.NS', 'GODREJPROP.NS', 'GRASIM.NS', 'GUJGASLTD.NS', 'GSPL.NS', 'HCLTECH.NS', 'HDFCAMC.NS', 'HDFCBANK.NS', 'HDFCLIFE.NS', 'HAVELLS.NS', 'HEROMOTOCO.NS', 'HINDALCO.NS', 'HAL.NS', 'HINDPETRO.NS', 'HINDUNILVR.NS', 'HINDZINC.NS', 'HONAUT.NS', 'HDFC.NS', 'ICICIBANK.NS', 'ICICIGI.NS', 'ICICIPRULI.NS', 'ISEC.NS', 'IDBI.NS', 'IDFCFIRSTB.NS', 'ITC.NS', 'INDIAMART.NS', 'INDIANB.NS', 'IEX.NS', 'INDHOTEL.NS', 'IOC.NS', 'IRCTC.NS', 'IGL.NS', 'INDUSTOWER.NS', 'INDUSINDBK.NS', 'NAUKRI.NS', 'INFY.NS', 'INDIGO.NS', 'IPCALAB.NS', 'JSWENERGY.NS', 'JSWSTEEL.NS', 'JINDALSTEL.NS', 'JUBLFOOD.NS', 'KOTAKBANK.NS', 'L&TFH.NS', 'LTTS.NS', 'LICHSGFIN.NS', 'LTI.NS', 'LT.NS', 'LAURUSLABS.NS', 'LUPIN.NS', 'MRF.NS', 'M&MFIN.NS', 'M&M.NS', 'MANAPPURAM.NS', 'MARICO.NS', 'MARUTI.NS', 'MFSL.NS', 'MAXHEALTH.NS', 'METROPOLIS.NS', 'MINDTREE.NS', 'MPHASIS.NS', 'MUTHOOTFIN.NS', 'NMDC.NS', 'NTPC.NS', 'NATIONALUM.NS', 'NAVINFLUOR.NS', 'NESTLEIND.NS', 'NAM-INDIA.NS', 'OBEROIRLTY.NS', 'ONGC.NS', 'OIL.NS', 'PAYTM.NS', 'OFSS.NS', 'POLICYBZR.NS', 'PIIND.NS', 'PAGEIND.NS', 'PERSISTENT.NS', 'PETRONET.NS', 'PIDILITIND.NS', 'PEL.NS', 'POLYCAB.NS', 'PFC.NS', 'POWERGRID.NS', 'PRESTIGE.NS', 'PGHH.NS', 'PNB.NS', 'RECLTD.NS', 'RELIANCE.NS', 'SBICARD.NS', 'SBILIFE.NS', 'SRF.NS', 'SHREECEM.NS', 'SRTRANSFIN.NS', 'SIEMENS.NS', 'SONACOMS.NS', 'SBIN.NS', 'SAIL.NS', 'SUNPHARMA.NS', 'SUNTV.NS', 'SYNGENE.NS', 'TVSMOTOR.NS', 'TATACHEM.NS', 'TATACOMM.NS', 'TCS.NS', 'TATACONSUM.NS', 'TATAELXSI.NS', 'TATAMOTORS.NS', 'TATAPOWER.NS', 'TATASTEEL.NS', 'TECHM.NS', 'RAMCOCEM.NS', 'TITAN.NS', 'TORNTPHARM.NS', 'TORNTPOWER.NS', 'TRENT.NS', 'TRIDENT.NS', 'UPL.NS', 'ULTRACEMCO.NS', 'UNIONBANK.NS', 'UBL.NS', 'MCDOWELL-N.NS', 'VBL.NS', 'VEDL.NS', 'IDEA.NS', 'VOLTAS.NS', 'WHIRLPOOL.NS', 'WIPRO.NS', 'YESBANK.NS', 'ZEEL.NS', 'ZOMATO.NS', 'ZYDUSLIFE.NS']\n"
          ]
        }
      ],
      "source": [
        "print(symbols)"
      ]
    },
    {
      "cell_type": "code",
      "execution_count": 11,
      "metadata": {
        "id": "KenPv4R_VLDb"
      },
      "outputs": [],
      "source": [
        "finale = pd.DataFrame(columns=['Stock','P035', 'P05', 'P1','P2','P35','R05','R1','R03','R0'])"
      ]
    },
    {
      "cell_type": "code",
      "execution_count": null,
      "metadata": {
        "colab": {
          "base_uri": "https://localhost:8080/"
        },
        "id": "jYjYg3_MU_Ir",
        "outputId": "d98185d7-bf6c-4ac6-b0e5-1482bc89068e"
      },
      "outputs": [],
      "source": [
        "\n",
        "for s in symbols:\n",
        "  print(s)\n",
        "  df2=comb(s)\n",
        "  finale = finale.append(df2, ignore_index = True)\n",
        "\n",
        "    \n",
        "\n"
      ]
    },
    {
      "cell_type": "code",
      "execution_count": 13,
      "metadata": {
        "id": "lTzhN6snzini"
      },
      "outputs": [],
      "source": [
        "finale['St']=18*finale['P35'] + 14*finale['P2'] + 10*finale['P1'] + 6*finale['P05'] + 0.5*finale['P035'] "
      ]
    },
    {
      "cell_type": "code",
      "execution_count": 14,
      "metadata": {
        "id": "3yVzuO29BkH2"
      },
      "outputs": [],
      "source": [
        "finale['Rt']=64*finale['R0']+32*finale['R03']+8*finale['R05']+3*finale['R1']"
      ]
    },
    {
      "cell_type": "code",
      "execution_count": 15,
      "metadata": {
        "id": "ukzOH5FyH6rr"
      },
      "outputs": [],
      "source": [
        "finale['V']=finale['St']*finale['St']/finale['Rt']"
      ]
    },
    {
      "cell_type": "code",
      "execution_count": 16,
      "metadata": {
        "colab": {
          "base_uri": "https://localhost:8080/",
          "height": 677
        },
        "id": "h7xi-tsOXPXY",
        "outputId": "ce85b901-6caf-4381-b4d3-74d3e4b4cb35"
      },
      "outputs": [],
      "source": [
        "combined = finale.sort_values(by='V',ascending=False)"
      ]
    },
    {
      "cell_type": "code",
      "execution_count": 17,
      "metadata": {
        "id": "TN41qROZek-o"
      },
      "outputs": [],
      "source": [
        "combined['V']=combined['V']/100000"
      ]
    },
    {
      "cell_type": "code",
      "execution_count": null,
      "metadata": {
        "id": "TUV2g_RnBWmq"
      },
      "outputs": [],
      "source": [
        "combined.head(50)"
      ]
    },
    {
      "cell_type": "code",
      "execution_count": null,
      "metadata": {
        "id": "Zb_mizhVBWib"
      },
      "outputs": [],
      "source": []
    },
    {
      "cell_type": "code",
      "execution_count": null,
      "metadata": {
        "id": "KalEETZTBWhE"
      },
      "outputs": [],
      "source": []
    },
    {
      "cell_type": "code",
      "execution_count": null,
      "metadata": {
        "id": "dUoglq3EBWeW"
      },
      "outputs": [],
      "source": []
    },
    {
      "cell_type": "code",
      "execution_count": null,
      "metadata": {
        "id": "8c1BVhREBWbj"
      },
      "outputs": [],
      "source": []
    },
    {
      "cell_type": "code",
      "execution_count": null,
      "metadata": {
        "id": "83YT6eH3BWXA"
      },
      "outputs": [],
      "source": []
    },
    {
      "cell_type": "code",
      "execution_count": null,
      "metadata": {
        "id": "LcgDdt5yBWVe"
      },
      "outputs": [],
      "source": []
    },
    {
      "cell_type": "code",
      "execution_count": null,
      "metadata": {
        "id": "CO1sYxEXBWNH"
      },
      "outputs": [],
      "source": []
    },
    {
      "cell_type": "code",
      "execution_count": null,
      "metadata": {
        "id": "9Pph6vapBWBk"
      },
      "outputs": [],
      "source": []
    },
    {
      "cell_type": "markdown",
      "metadata": {
        "id": "5qSs1W2N0RRE"
      },
      "source": [
        "Completed for 0.3%\n",
        "Now for 0.5%\n",
        "---\n",
        "\n"
      ]
    },
    {
      "cell_type": "code",
      "execution_count": 19,
      "metadata": {
        "id": "E0OWxMyoejnJ"
      },
      "outputs": [],
      "source": [
        "def weightedprob(s,k):\n",
        "  end_date=dt.datetime.today()\n",
        "  start_date1=dt.datetime.today()-dt.timedelta(7)\n",
        "  start_date2=dt.datetime.today()-dt.timedelta(14)\n",
        "  start_date4=dt.datetime.today()-dt.timedelta(28)\n",
        "  start_date8=dt.datetime.today()-dt.timedelta(56)\n",
        "  start_date16=dt.datetime.today()-dt.timedelta(112)\n",
        "  start_dateM=dt.datetime.today()-dt.timedelta(178)\n",
        "  start_dateY=dt.datetime.today()-dt.timedelta(356)\n",
        "  # Y2 = Y2.rename_axis(index='Date', columns=\"Date\")\n",
        "  W1=yf.download(s,start_date1,end_date)\n",
        "  # W1=Y2[Y2[\"Datefinal_W1\"] >= '2022-09-13' and Y2[\"Date\"]<='2022-09-20']\n",
        "  W2=yf.download(s,start_date2,end_date)\n",
        "  # W2=Y2[Y2[\"Date\"] >= '2022-09-06' and Y2[\"Date\"]<='2022-09-20']\n",
        "  W4=yf.download(s,start_date4,end_date)\n",
        "  # W4=Y2[Y2[\"Datefinal_W1\"] >= '2022-08-23' and Y2[\"Date\"]<='2022-09-20']\n",
        "  W8=yf.download(s,start_date8,end_date)\n",
        "  # W8=Y2[Y2[\"Date\"] >= '2022-07-06' and Y2[\"Date\"]<='2022-09-20']022-1\n",
        "  W16=yf.download(s,start_date16,end_date)\n",
        "  # W16=Y2[Y2[\"Date\"] >= '2022-05-31' and Y2[\"Date\"]<='2022-09-20']\n",
        "  M6=yf.download(s,start_dateM,end_date)\n",
        "  # M6=Y2[Y2[\"Date\"] >= '2022-03-22' and Y2[\"Date\"]<='2022-09-20']\n",
        "  Y1=yf.download(s,start_dateY,end_date)\n",
        "  # Y1=Y2[Y2[\"Date\"] >= '2021-09-06' and Y2[\"Date\"]<='2022-09-20']\n",
        "  # Y2=yf.download(s,'2020-09-20','2022-09-20')022-1\n",
        "\n",
        "  low_ch = pd.DataFrame(columns=['Lord'])\n",
        "  low_ch['Lord'] = (((W1['High']-W1['Low'])*100 )/W1['High'])\n",
        "  final_W1=low_ch[low_ch.Lord > k]\n",
        "\n",
        "  low_ch1 = pd.DataFrame(columns=['Lord'])\n",
        "  low_ch1['Lord'] = (((W2['High']-W2['Low'])*100 )/W2['High'])\n",
        "  final_W2=low_ch1[low_ch1.Lord > k]\n",
        "\n",
        "  low_ch2 = pd.DataFrame(columns=['Lord'])\n",
        "  low_ch2['Lord'] = (((W4['High']-W4['Low'])*100 )/W4['High'])\n",
        "  final_W4=low_ch2[low_ch2.Lord > k]\n",
        "\n",
        "  low_ch3 = pd.DataFrame(columns=['Lord'])\n",
        "  low_ch3['Lord'] = (((W8['High']-W8['Low'])*100 )/W8['High'])\n",
        "  final_W8=low_ch3[low_ch3.Lord > k]\n",
        "\n",
        "  low_ch4 = pd.DataFrame(columns=['Lord'])\n",
        "  low_ch4['Lord'] = (((W16['High']-W16['Low'])*100 )/W16['High'])\n",
        "  final_W16=low_ch4[low_ch4.Lord > k]\n",
        "\n",
        "  low_ch5 = pd.DataFrame(columns=['Lord'])\n",
        "  low_ch5['Lord'] = (((M6['High']-M6['Low'])*100 )/M6['High'])\n",
        "  final_M6=low_ch5[low_ch5.Lord > k]\n",
        "\n",
        "  low_ch6 = pd.DataFrame(columns=['Lord'])\n",
        "  low_ch6['Lord'] = (((Y1['High']-Y1['Low'])*100 )/Y1['High'])\n",
        "  final_Y1=low_ch6[low_ch6.Lord > k]\n",
        "\n",
        "  # p=256*final_W1+128*final_W2+64*final_W4+32*final_W8+16*final_W16+8*final_M6+4*final_Y1+2*final_Y2\n",
        "\n",
        "  df2 = {'Stock': s,'W1':(final_W1.size*100)/(W1.size), 'W2': (final_W2.size*100)/(W2.size), 'W4': (final_W4.size*100)/(W4.size), 'W8' : (final_W8.size*100)/(W8.size), 'W16': (final_W16.size*100)/(W16.size), 'M6': (final_M6.size*100)/(M6.size), 'Y1': (final_Y1.size*100)/(Y1.size) }\n",
        "  return df2\n"
      ]
    },
    {
      "cell_type": "code",
      "execution_count": 20,
      "metadata": {
        "id": "ftU1ObxX0BP-"
      },
      "outputs": [],
      "source": [
        "final_05 = pd.DataFrame(columns=['Stock','W1', 'W2', 'W4','W8','W16','M6','Y1'])"
      ]
    },
    {
      "cell_type": "code",
      "execution_count": null,
      "metadata": {
        "colab": {
          "base_uri": "https://localhost:8080/"
        },
        "id": "QhslB5VZ0Bug",
        "outputId": "594086bc-b898-445e-f7a8-da067df3d4fc"
      },
      "outputs": [],
      "source": [
        "for s in symbols:\n",
        "  df2=weightedprob(s,2.1)\n",
        "  final_05 = final_05.append(df2, ignore_index = True)\n"
      ]
    },
    {
      "cell_type": "code",
      "execution_count": 22,
      "metadata": {
        "id": "gbGOIChQ0B1c"
      },
      "outputs": [],
      "source": [
        "final_05['Prob05']=256*final_05['W1']+128*final_05['W2']+64*final_05['W4']+32*final_05['W8']+16*final_05['W16']+8*final_05['M6']+4*final_05['Y1']"
      ]
    },
    {
      "cell_type": "code",
      "execution_count": 23,
      "metadata": {
        "colab": {
          "base_uri": "https://localhost:8080/",
          "height": 677
        },
        "id": "sB3zNbwp0B57",
        "outputId": "4d2bf1b2-d272-4660-b18d-a5346abd8038"
      },
      "outputs": [],
      "source": [
        "forks_05 = final_05.sort_values(by='Prob05',ascending=False)"
      ]
    },
    {
      "cell_type": "markdown",
      "metadata": {
        "id": "y_9dmEfX1WG2"
      },
      "source": [
        "Done for *0.5*\n",
        "now for 1"
      ]
    },
    {
      "cell_type": "code",
      "execution_count": 24,
      "metadata": {
        "id": "b8UZwEP10B9z"
      },
      "outputs": [],
      "source": [
        "final_1 = pd.DataFrame(columns=['Stock','W1', 'W2', 'W4','W8','W16','M6','Y1'])"
      ]
    },
    {
      "cell_type": "code",
      "execution_count": null,
      "metadata": {
        "colab": {
          "base_uri": "https://localhost:8080/"
        },
        "id": "Rcqpj5Dn0CAp",
        "outputId": "4f897d38-7053-41c8-ec2c-e2a11c3012b5"
      },
      "outputs": [],
      "source": [
        "for s in symbols:\n",
        "  df2=weightedprob(s,1)\n",
        "  final_1 = final_1.append(df2, ignore_index = True)"
      ]
    },
    {
      "cell_type": "code",
      "execution_count": null,
      "metadata": {
        "id": "JSVsTLt40CDp"
      },
      "outputs": [],
      "source": [
        "final_1['Prob1']=256*final_1['W1']+128*final_1['W2']+64*final_1['W4']+32*final_1['W8']+16*final_1['W16']+8*final_1['M6']+4*final_1['Y1']"
      ]
    },
    {
      "cell_type": "code",
      "execution_count": null,
      "metadata": {
        "colab": {
          "base_uri": "https://localhost:8080/",
          "height": 677
        },
        "id": "daZgnnpP10D_",
        "outputId": "183700cd-dd9e-4a3f-e03f-31116dfee718"
      },
      "outputs": [],
      "source": [
        "forks_1 = final_1.sort_values(by='Prob1',ascending=False)\n"
      ]
    },
    {
      "cell_type": "code",
      "execution_count": null,
      "metadata": {
        "id": "suKjoiFh8dw5"
      },
      "outputs": [],
      "source": [
        "final_2 = pd.DataFrame(columns=['Stock','W1', 'W2', 'W4','W8','W16','M6','Y1'])"
      ]
    },
    {
      "cell_type": "code",
      "execution_count": null,
      "metadata": {
        "colab": {
          "base_uri": "https://localhost:8080/"
        },
        "id": "C0h4Ppt_8dve",
        "outputId": "05c21e21-e5c5-4d3d-87ac-ee278cb84287"
      },
      "outputs": [],
      "source": [
        "for s in symbols:\n",
        "  df2=weightedprob(s,2)\n",
        "  final_2 = final_2.append(df2, ignore_index = True)"
      ]
    },
    {
      "cell_type": "code",
      "execution_count": null,
      "metadata": {
        "id": "mVKoAcmS8dp5"
      },
      "outputs": [],
      "source": [
        "final_2['Prob2']=256*final_2['W1']+128*final_2['W2']+64*final_2['W4']+32*final_2['W8']+16*final_2['W16']+8*final_2['M6']+4*final_2['Y1']"
      ]
    },
    {
      "cell_type": "code",
      "execution_count": null,
      "metadata": {
        "id": "LUinNNrl8dnH"
      },
      "outputs": [],
      "source": []
    },
    {
      "cell_type": "code",
      "execution_count": null,
      "metadata": {
        "id": "ww2m9GZu8dkW"
      },
      "outputs": [],
      "source": []
    },
    {
      "cell_type": "code",
      "execution_count": null,
      "metadata": {
        "id": "xgY_libI8dd8"
      },
      "outputs": [],
      "source": []
    },
    {
      "cell_type": "code",
      "execution_count": null,
      "metadata": {
        "colab": {
          "base_uri": "https://localhost:8080/",
          "height": 206
        },
        "id": "CH6-1eQlvkge",
        "outputId": "aeacb26f-11ce-4c98-b972-de13f361beaf"
      },
      "outputs": [],
      "source": [
        "combined=final_1"
      ]
    },
    {
      "cell_type": "code",
      "execution_count": null,
      "metadata": {
        "colab": {
          "base_uri": "https://localhost:8080/",
          "height": 206
        },
        "id": "RMut07PlvkdX",
        "outputId": "ec83eb77-8b26-46bf-8ea3-f62a3ec8769f"
      },
      "outputs": [
        {
          "data": {
            "text/html": [
              "<div>\n",
              "<style scoped>\n",
              "    .dataframe tbody tr th:only-of-type {\n",
              "        vertical-align: middle;\n",
              "    }\n",
              "\n",
              "    .dataframe tbody tr th {\n",
              "        vertical-align: top;\n",
              "    }\n",
              "\n",
              "    .dataframe thead th {\n",
              "        text-align: right;\n",
              "    }\n",
              "</style>\n",
              "<table border=\"1\" class=\"dataframe\">\n",
              "  <thead>\n",
              "    <tr style=\"text-align: right;\">\n",
              "      <th></th>\n",
              "      <th>Stock</th>\n",
              "      <th>Prob1</th>\n",
              "    </tr>\n",
              "  </thead>\n",
              "  <tbody>\n",
              "    <tr>\n",
              "      <th>0</th>\n",
              "      <td>ABB.NS</td>\n",
              "      <td>5163.963877</td>\n",
              "    </tr>\n",
              "    <tr>\n",
              "      <th>1</th>\n",
              "      <td>ACC.NS</td>\n",
              "      <td>6313.885901</td>\n",
              "    </tr>\n",
              "    <tr>\n",
              "      <th>2</th>\n",
              "      <td>AUBANK.NS</td>\n",
              "      <td>3066.909048</td>\n",
              "    </tr>\n",
              "    <tr>\n",
              "      <th>3</th>\n",
              "      <td>ABBOTINDIA.NS</td>\n",
              "      <td>4095.952429</td>\n",
              "    </tr>\n",
              "    <tr>\n",
              "      <th>4</th>\n",
              "      <td>ADANIENT.NS</td>\n",
              "      <td>5113.352854</td>\n",
              "    </tr>\n",
              "  </tbody>\n",
              "</table>\n",
              "</div>"
            ],
            "text/plain": [
              "           Stock        Prob1\n",
              "0         ABB.NS  5163.963877\n",
              "1         ACC.NS  6313.885901\n",
              "2      AUBANK.NS  3066.909048\n",
              "3  ABBOTINDIA.NS  4095.952429\n",
              "4    ADANIENT.NS  5113.352854"
            ]
          },
          "execution_count": 31,
          "metadata": {},
          "output_type": "execute_result"
        }
      ],
      "source": [
        "combined=combined.drop(['W1','W2','W4','W8','W16','M6','Y1'],axis=1)\n",
        "combined.head()"
      ]
    },
    {
      "cell_type": "code",
      "execution_count": null,
      "metadata": {
        "colab": {
          "base_uri": "https://localhost:8080/",
          "height": 990
        },
        "id": "jXcglgxRvkZv",
        "outputId": "a28f85eb-17f1-43b6-bcb1-bc116e911d41"
      },
      "outputs": [],
      "source": [
        "combined=combined.merge(final_05[['Prob05', 'Stock']], on = 'Stock', how = 'left')\n",
        "combined.head(30)"
      ]
    },
    {
      "cell_type": "code",
      "execution_count": null,
      "metadata": {
        "colab": {
          "base_uri": "https://localhost:8080/",
          "height": 206
        },
        "id": "Ucu6WrpQvkWN",
        "outputId": "354b026f-3225-4f67-f1dd-dc3b93d74243"
      },
      "outputs": [],
      "source": []
    },
    {
      "cell_type": "code",
      "execution_count": null,
      "metadata": {
        "colab": {
          "base_uri": "https://localhost:8080/",
          "height": 990
        },
        "id": "v_SM1C1UvkTA",
        "outputId": "64949219-9f33-4ecf-c5cd-206ef5d354e9"
      },
      "outputs": [],
      "source": [
        "combined.head(30)"
      ]
    },
    {
      "cell_type": "code",
      "execution_count": null,
      "metadata": {
        "id": "QnDkR-qD86UD"
      },
      "outputs": [],
      "source": [
        "combined=combined.merge(final_2[['Prob2', 'Stock']], on = 'Stock', how = 'left')\n",
        "combined.head()"
      ]
    },
    {
      "cell_type": "code",
      "execution_count": null,
      "metadata": {
        "id": "PJWSmmx5vkPO"
      },
      "outputs": [],
      "source": [
        "combined['Val']=8*combined['Prob2']+4*combined['Prob1']+2*combined['Prob05']"
      ]
    },
    {
      "cell_type": "code",
      "execution_count": null,
      "metadata": {
        "colab": {
          "base_uri": "https://localhost:8080/",
          "height": 206
        },
        "id": "DP8fXOUXvkLN",
        "outputId": "1fd1ae0a-98f7-4cac-e755-5f56ba5350e3"
      },
      "outputs": [],
      "source": [
        "combined = combined.sort_values(by='Val',ascending=False)\n",
        "combined.head()"
      ]
    },
    {
      "cell_type": "code",
      "execution_count": null,
      "metadata": {
        "colab": {
          "base_uri": "https://localhost:8080/",
          "height": 990
        },
        "id": "HvbTUTnNvkFL",
        "outputId": "05f3ccdd-6ba8-46eb-cfe9-658031ded87c"
      },
      "outputs": [],
      "source": [
        "combined.head(30)"
      ]
    },
    {
      "cell_type": "markdown",
      "metadata": {
        "id": "32oqOqvgz6kg"
      },
      "source": [
        "Let's minimize risk, by taking k such that O-L<0.5"
      ]
    },
    {
      "cell_type": "code",
      "execution_count": null,
      "metadata": {
        "id": "RKxICWmlzSS_"
      },
      "outputs": [],
      "source": [
        "def falsesignal(s,k):\n",
        "  end_date=dt.datetime.today()\n",
        "  start_date1=dt.datetime.today()-dt.timedelta(7)\n",
        "  start_date2=dt.datetime.today()-dt.timedelta(14)\n",
        "  start_date4=dt.datetime.today()-dt.timedelta(28)\n",
        "  start_date8=dt.datetime.today()-dt.timedelta(56)\n",
        "  start_date16=dt.datetime.today()-dt.timedelta(112)\n",
        "  start_dateM=dt.datetime.today()-dt.timedelta(178)\n",
        "  start_dateY=dt.datetime.today()-dt.timedelta(356)\n",
        "  W1=yf.download(s,start_date1,end_date)\n",
        "  # W1=Y2[Y2[\"Datefinal_W1\"] >= '2022-09-13' and Y2[\"Date\"]<='2022-09-20']\n",
        "  W2=yf.download(s,start_date2,end_date)\n",
        "  # W2=Y2[Y2[\"Date\"] >= '2022-09-06' and Y2[\"Date\"]<='2022-09-20']\n",
        "  W4=yf.download(s,start_date4,end_date)\n",
        "  # W4=Y2[Y2[\"Datefinal_W1\"] >= '2022-08-23' and Y2[\"Date\"]<='2022-09-20']\n",
        "  W8=yf.download(s,start_date8,end_date)\n",
        "  # W8=Y2[Y2[\"Date\"] >= '2022-07-06' and Y2[\"Date\"]<='2022-09-20']022-1\n",
        "  W16=yf.download(s,start_date16,end_date)\n",
        "  # W16=Y2[Y2[\"Date\"] >= '2022-05-31' and Y2[\"Date\"]<='2022-09-20']\n",
        "  M6=yf.download(s,start_dateM,end_date)\n",
        "  # M6=Y2[Y2[\"Date\"] >= '2022-03-22' and Y2[\"Date\"]<='2022-09-20']\n",
        "  Y1=yf.download(s,start_dateY,end_date)\n",
        "  # Y1=Y2[Y2[\"Date\"] >= '2021-09-06' and Y2[\"Date\"]<='2022-09-20']\n",
        "  # Y2=yf.download(s,'2020-09-20','2022-09-20')022-1\n",
        "  low_ch = pd.DataFrame(columns=['Lord'])\n",
        "  low_ch['Lord'] = (((W1['High']-W1['Low'])*100 )/W1['High'])\n",
        "  final_W1=low_ch[low_ch.Lord < k]\n",
        "\n",
        "  low_ch1 = pd.DataFrame(columns=['Lord'])\n",
        "  low_ch1['Lord'] = (((W2['High']-W2['Low'])*100 )/W2['High'])\n",
        "  final_W2=low_ch1[low_ch1.Lord < k]\n",
        "\n",
        "  low_ch2 = pd.DataFrame(columns=['Lord'])\n",
        "  low_ch2['Lord'] = (((W4['High']-W4['Low'])*100 )/W4['High'])\n",
        "  final_W4=low_ch2[low_ch2.Lord < k]\n",
        "\n",
        "  low_ch3 = pd.DataFrame(columns=['Lord'])\n",
        "  low_ch3['Lord'] = (((W8['High']-W8['Low'])*100 )/W8['High'])\n",
        "  final_W8=low_ch3[low_ch3.Lord < k]\n",
        "\n",
        "  low_ch4 = pd.DataFrame(columns=['Lord'])\n",
        "  low_ch4['Lord'] = (((W16['High']-W16['Low'])*100 )/W16['High'])\n",
        "  final_W16=low_ch4[low_ch4.Lord < k]\n",
        "\n",
        "  low_ch5 = pd.DataFrame(columns=['Lord'])\n",
        "  low_ch5['Lord'] = (((M6['High']-M6['Low'])*100 )/M6['High'])\n",
        "  final_M6=low_ch5[low_ch5.Lord < k]\n",
        "\n",
        "  low_ch6 = pd.DataFrame(columns=['Lord'])\n",
        "  low_ch6['Lord'] = (((Y1['High']-Y1['Low'])*100 )/Y1['High'])\n",
        "  final_Y1=low_ch6[low_ch6.Lord < k]\n",
        "\n",
        "\n",
        "  # p=256*final_W1+128*final_W2+64*final_W4+32*final_W8+16*final_W16+8*final_M6+4*final_Y1+2*final_Y2\n",
        "\n",
        "  df2 = {'Stock': s,'W1':(final_W1.size*100)/(W1.size), 'W2': (final_W2.size*100)/(W2.size), 'W4': (final_W4.size*100)/(W4.size), 'W8' : (final_W8.size*100)/(W8.size), 'W16': (final_W16.size*100)/(W16.size), 'M6': (final_M6.size*100)/(M6.size), 'Y1': (final_Y1.size*100)/(Y1.size) }\n",
        "  return df2"
      ]
    },
    {
      "cell_type": "code",
      "execution_count": null,
      "metadata": {
        "id": "ZcK__uVrzSNF"
      },
      "outputs": [],
      "source": [
        "risk_05 = pd.DataFrame(columns=['Stock','W1', 'W2', 'W4','W8','W16','M6','Y1'])"
      ]
    },
    {
      "cell_type": "code",
      "execution_count": null,
      "metadata": {
        "colab": {
          "base_uri": "https://localhost:8080/"
        },
        "id": "wImiaZy5zSJw",
        "outputId": "871dca31-34ac-4a4a-f254-026da0103d83"
      },
      "outputs": [],
      "source": [
        "for s in symbols:\n",
        "  df2=falsesignal(s,2.1)\n",
        "  risk_05 = risk_05.append(df2, ignore_index = True)"
      ]
    },
    {
      "cell_type": "code",
      "execution_count": null,
      "metadata": {
        "colab": {
          "base_uri": "https://localhost:8080/",
          "height": 990
        },
        "id": "eo5VcTUXzSGg",
        "outputId": "56cc66d6-fe15-42be-ddee-e7dcce76079d"
      },
      "outputs": [],
      "source": [
        "risk_05.head(30)"
      ]
    },
    {
      "cell_type": "code",
      "execution_count": null,
      "metadata": {
        "id": "FgD0TgrHzSC_"
      },
      "outputs": [],
      "source": [
        "risk_05['Prob1']=256*risk_05['W1']+128*risk_05['W2']+64*risk_05['W4']+32*risk_05['W8']+16*risk_05['W16']+8*risk_05['M6']+4*risk_05['Y1']"
      ]
    },
    {
      "cell_type": "code",
      "execution_count": null,
      "metadata": {
        "colab": {
          "base_uri": "https://localhost:8080/",
          "height": 424
        },
        "id": "bpl-M67yzR-U",
        "outputId": "dc745cf7-5781-4572-ab38-725f796ae7bc"
      },
      "outputs": [],
      "source": [
        "risk_05.rename(columns={'Prob1':'Risk'})"
      ]
    },
    {
      "cell_type": "code",
      "execution_count": null,
      "metadata": {
        "id": "V8qTrCCVzR1s"
      },
      "outputs": [],
      "source": [
        "best=combined"
      ]
    },
    {
      "cell_type": "code",
      "execution_count": null,
      "metadata": {
        "colab": {
          "base_uri": "https://localhost:8080/",
          "height": 206
        },
        "id": "Hdae9cs1vj9o",
        "outputId": "cca59e97-9719-40a3-82ce-49c3014c7ee3"
      },
      "outputs": [],
      "source": [
        "best.head()"
      ]
    },
    {
      "cell_type": "code",
      "execution_count": null,
      "metadata": {
        "colab": {
          "base_uri": "https://localhost:8080/",
          "height": 206
        },
        "id": "B0cumqfl6k5q",
        "outputId": "22636b31-ad5a-4cf8-ba83-c698cf20f001"
      },
      "outputs": [],
      "source": [
        "risk_05=risk_05.rename(columns={'Prob1':'Risk'})\n",
        "risk_05.head()"
      ]
    },
    {
      "cell_type": "code",
      "execution_count": null,
      "metadata": {
        "id": "sywhnFFv6LtL"
      },
      "outputs": [],
      "source": [
        "best=best.merge(risk_05[['Risk', 'Stock']], on = 'Stock', how = 'left')"
      ]
    },
    {
      "cell_type": "code",
      "execution_count": null,
      "metadata": {
        "colab": {
          "base_uri": "https://localhost:8080/",
          "height": 206
        },
        "id": "0dg-WnSs6Lqt",
        "outputId": "ff0ece4a-700f-4982-84c8-859d5761df48"
      },
      "outputs": [],
      "source": [
        "best.head()"
      ]
    },
    {
      "cell_type": "code",
      "execution_count": null,
      "metadata": {
        "id": "Aa7KQ1Ax6Ln_"
      },
      "outputs": [],
      "source": [
        "best['Quotient']=(best['Val']*best['Val']*best['Val'])/(best['Risk']*1000000000)"
      ]
    },
    {
      "cell_type": "code",
      "execution_count": null,
      "metadata": {
        "id": "FFo0JNBs6LlR"
      },
      "outputs": [],
      "source": [
        "best = best.sort_values(by='Quotient',ascending=False)"
      ]
    },
    {
      "cell_type": "code",
      "execution_count": null,
      "metadata": {
        "colab": {
          "base_uri": "https://localhost:8080/",
          "height": 990
        },
        "id": "eOGW87VI6Lip",
        "outputId": "52dad03f-6dbd-4eae-b4d7-f45f662ea5fb"
      },
      "outputs": [],
      "source": [
        "best.head(30)"
      ]
    },
    {
      "cell_type": "code",
      "execution_count": null,
      "metadata": {
        "id": "QYXFuzktLMlu"
      },
      "outputs": [
        {
          "ename": "NameError",
          "evalue": "name 'dt' is not defined",
          "output_type": "error",
          "traceback": [
            "\u001b[1;31m---------------------------------------------------------------------------\u001b[0m",
            "\u001b[1;31mNameError\u001b[0m                                 Traceback (most recent call last)",
            "Cell \u001b[1;32mIn [1], line 1\u001b[0m\n\u001b[1;32m----> 1\u001b[0m dt\u001b[39m.\u001b[39mdatetime\u001b[39m.\u001b[39mtoday()\n",
            "\u001b[1;31mNameError\u001b[0m: name 'dt' is not defined"
          ]
        }
      ],
      "source": []
    },
    {
      "cell_type": "code",
      "execution_count": null,
      "metadata": {
        "id": "NHNx-rQYLMjB"
      },
      "outputs": [],
      "source": []
    },
    {
      "cell_type": "code",
      "execution_count": null,
      "metadata": {
        "id": "sSlwTvIYLMft"
      },
      "outputs": [],
      "source": []
    },
    {
      "cell_type": "code",
      "execution_count": null,
      "metadata": {
        "id": "1VvtR5HNLMcd"
      },
      "outputs": [],
      "source": []
    },
    {
      "cell_type": "code",
      "execution_count": null,
      "metadata": {
        "id": "5DjR2dlGLMZN"
      },
      "outputs": [],
      "source": []
    },
    {
      "cell_type": "code",
      "execution_count": null,
      "metadata": {
        "id": "Tr1g39GALMSj"
      },
      "outputs": [],
      "source": []
    }
  ],
  "metadata": {
    "colab": {
      "collapsed_sections": [],
      "provenance": []
    },
    "kernelspec": {
      "display_name": "Python 3.10.2 64-bit",
      "language": "python",
      "name": "python3"
    },
    "language_info": {
      "codemirror_mode": {
        "name": "ipython",
        "version": 3
      },
      "file_extension": ".py",
      "mimetype": "text/x-python",
      "name": "python",
      "nbconvert_exporter": "python",
      "pygments_lexer": "ipython3",
      "version": "3.10.2"
    },
    "vscode": {
      "interpreter": {
        "hash": "26de051ba29f2982a8de78e945f0abaf191376122a1563185a90213a26c5da77"
      }
    }
  },
  "nbformat": 4,
  "nbformat_minor": 0
}
